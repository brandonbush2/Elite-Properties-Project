{
 "cells": [
  {
   "cell_type": "markdown",
   "id": "3f48b859",
   "metadata": {},
   "source": [
    "# Multiple Linear Regression Modeling for Sale Price Prediction at Elite Properties Group"
   ]
  },
  {
   "cell_type": "markdown",
   "id": "7a635cd0",
   "metadata": {},
   "source": [
    "# 1. Business Understanding\n"
   ]
  },
  {
   "cell_type": "markdown",
   "id": "7e0269ca",
   "metadata": {},
   "source": [
    "Elite Properties Group has the need to develop a reliable and accurate model that predicts the sale prices of residential properties based on their key attributes. By leveraging historical data, including features such as the number of bedrooms, bathrooms, square footage of living space, lot size, number of floors, property condition and year built, the agency aims to provide clients with precise pricing recommendations and maximize their returns on investment.\n",
    "\n",
    "The primary objective of this project is to build a robust predictive model that accurately estimates the sale prices of residential properties listed by Elite Properties Group. By utilizing the available dataset, the agency aims to offer clients reliable and data-driven pricing advice, enhancing their confidence in the sales process and facilitating optimal pricing strategies."
   ]
  },
  {
   "cell_type": "markdown",
   "id": "d026707c",
   "metadata": {},
   "source": [
    "# 2. Data Understanding\n",
    "To gain a comprehensive understanding of the dataset provided by Elite Properties Group, I will examine the features and identify the key ones to use when creating models to predict the sale prices. The dataset `kc_house_data.csv` contains attributes such as: \n",
    "* Saleprice\n",
    "* Number of Bedrooms\n",
    "* Number of Bathrooms\n",
    "* Year Built\n",
    "* Date the house was sold\n",
    "* Whether the house is on a waterfront\n",
    "* Square footage of living space in the home\n",
    "* Number of floors (levels) in house\n",
    "* Quality of view from house\n",
    "\n",
    "## Relevance of these features\n",
    "The provided features in the dataset have significant relevance in predicting the sale prices of residential properties. The number of bedrooms and bathrooms provides insights into the property's size and functionality, which are crucial factors influencing its value. The square footage of the living space provides an indication of the overall spaciousness and potential use of the property, impacting its desirability and pricing. The number of floors reflects the property's layout and can affect its appeal to potential buyers.\n",
    "\n",
    "The year built feature provides insights into the property's age, which can impact its condition, modernity, and potential maintenance costs. By considering these features collectively, we can develop a comprehensive model that accurately predicts sale prices and assists Elite Properties Group in providing valuable pricing advice to their clients.\n"
   ]
  },
  {
   "cell_type": "markdown",
   "id": "f7a37d96",
   "metadata": {},
   "source": [
    "# 3. Data Preparation\n",
    "We first import the relevant packages for this analysis."
   ]
  },
  {
   "cell_type": "code",
   "execution_count": null,
   "id": "2d34e024",
   "metadata": {},
   "outputs": [],
   "source": []
  },
  {
   "cell_type": "code",
   "execution_count": 14,
   "id": "571ef041",
   "metadata": {},
   "outputs": [],
   "source": [
    "# import pandas as pd\n",
    "# df = pd.read_csv('data/kc_house_data.csv')\n",
    "# use = df.drop(columns = ['date','view','sqft_above','sqft_basement','yr_renovated','zipcode','lat','long','sqft_living15','sqft_lot15'], axis = 1)"
   ]
  },
  {
   "cell_type": "code",
   "execution_count": null,
   "id": "875cdfe9",
   "metadata": {},
   "outputs": [],
   "source": []
  }
 ],
 "metadata": {
  "kernelspec": {
   "display_name": "Python 3 (ipykernel)",
   "language": "python",
   "name": "python3"
  },
  "language_info": {
   "codemirror_mode": {
    "name": "ipython",
    "version": 3
   },
   "file_extension": ".py",
   "mimetype": "text/x-python",
   "name": "python",
   "nbconvert_exporter": "python",
   "pygments_lexer": "ipython3",
   "version": "3.10.11"
  }
 },
 "nbformat": 4,
 "nbformat_minor": 5
}
