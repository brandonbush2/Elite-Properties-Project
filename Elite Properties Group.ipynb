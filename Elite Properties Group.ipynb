{
 "cells": [
  {
   "cell_type": "markdown",
   "id": "3f48b859",
   "metadata": {},
   "source": [
    "# Multiple Linear Regression Modeling for Sale Price Prediction at Elite Properties Group"
   ]
  },
  {
   "cell_type": "markdown",
   "id": "7a635cd0",
   "metadata": {},
   "source": [
    "# 1. Business Understanding\n"
   ]
  },
  {
   "cell_type": "markdown",
   "id": "7e0269ca",
   "metadata": {},
   "source": [
    "Elite Properties Group has the need to develop a reliable and accurate model that predicts the sale prices of residential properties based on their key attributes. By leveraging historical data, including features such as the number of bedrooms, bathrooms, square footage of living space, lot size, number of floors, property condition and year built, the agency aims to provide clients with precise pricing recommendations and maximize their returns on investment.\n",
    "\n",
    "The primary objective of this project is to build a robust predictive model that accurately estimates the sale prices of residential properties listed by Elite Properties Group. By utilizing the available dataset, the agency aims to offer clients reliable and data-driven pricing advice, enhancing their confidence in the sales process and facilitating optimal pricing strategies.\n",
    "\n",
    "Before building the model, we will address the following descriptive questions through data exploration:\n",
    "#### 1. Does the number of bedrooms have an impact on sale price?\n",
    "#### 2. How does square feet of living room area impact sale price?\n",
    "#### 3. Does presence or absence of a waterfront have an impact on saleprice?"
   ]
  },
  {
   "cell_type": "markdown",
   "id": "d026707c",
   "metadata": {},
   "source": [
    "# 2. Data Understanding\n",
    "To gain a comprehensive understanding of the dataset provided by Elite Properties Group, I will examine the features and identify the key ones to use when creating models to predict the sale prices. \n",
    "The dataset `kc_house_data.csv` contains attributes such as: \n",
    "* Saleprice\n",
    "* Number of Bedrooms\n",
    "* Number of Bathrooms\n",
    "* Year Built\n",
    "* Date the house was sold\n",
    "* Whether the house is on a waterfront\n",
    "* Square footage of living space in the home\n",
    "* Number of floors (levels) in house\n",
    "* Quality of view from house\n",
    "\n",
    "## Relevance of these features\n",
    "The provided features in the dataset have significant relevance in predicting the sale prices of residential properties. The number of bedrooms and bathrooms provides insights into the property's size and functionality, which are crucial factors influencing its value. The square footage of the living space provides an indication of the overall spaciousness and potential use of the property, impacting its desirability and pricing. The number of floors reflects the property's layout and can affect its appeal to potential buyers.\n",
    "\n",
    "The year built feature provides insights into the property's age, which can impact its condition, modernity, and potential maintenance costs. By considering these features collectively, we can develop a comprehensive model that accurately predicts sale prices and assists Elite Properties Group in providing valuable pricing advice to their clients.\n",
    "\n",
    "The column names and descriptions as provided can be found in the `column_names.md` file in this repository. For convenience they have been reproduced below.\n",
    "\n",
    "### Column Names and descriptions for Kings County Data Set\n",
    "\n",
    "* **id** - unique identified for a house\n",
    "* **dateDate** - house was sold\n",
    "* **pricePrice** - is prediction target\n",
    "* **bedroomsNumber** - of Bedrooms/House\n",
    "* **bathroomsNumber** - of bathrooms/bedrooms\n",
    "* **sqft_livingsquare** - footage of the home\n",
    "* **sqft_lotsquare** - footage of the lot\n",
    "* **floorsTotal** - floors (levels) in house\n",
    "* **waterfront** - House which has a view to a waterfront\n",
    "* **view** - Has been viewed\n",
    "* **condition** - How good the condition is ( Overall )\n",
    "* **grade** - overall grade given to the housing unit, based on King County grading system\n",
    "* **sqft_above** - square footage of house apart from basement\n",
    "* **sqft_basement** - square footage of the basement\n",
    "* **yr_built** - Built Year\n",
    "* **yr_renovated** - Year when house was renovated\n",
    "* **zipcode** - zip\n",
    "* **lat** - Latitude coordinate\n",
    "* **long** - Longitude coordinate\n",
    "* **sqft_living15** - The square footage of interior housing living space for the nearest 15 neighbors\n",
    "* **sqft_lot15** - The square footage of the land lots of the nearest 15 neighbors\n"
   ]
  },
  {
   "cell_type": "markdown",
   "id": "f7a37d96",
   "metadata": {},
   "source": [
    "# 3. Data Preparation\n",
    "We first import the relevant packages for this analysis."
   ]
  },
  {
   "cell_type": "code",
   "execution_count": 1,
   "id": "2d34e024",
   "metadata": {},
   "outputs": [],
   "source": [
    "# importing the relevant packages\n",
    "import numpy as np\n",
    "import scipy.stats as stats\n",
    "import statsmodels.api as sm\n",
    "import pandas as pd\n",
    "import seaborn as sns\n",
    "import matplotlib.pyplot as plt\n",
    "plt.style.use('seaborn-v0_8-darkgrid')\n",
    "\n",
    "#ignoring warnings\n",
    "import warnings\n",
    "warnings.filterwarnings('ignore')\n",
    "\n",
    "#enabling plotting of visualizations in the notebook\n",
    "%matplotlib inline"
   ]
  },
  {
   "cell_type": "markdown",
   "id": "31c55b9e",
   "metadata": {},
   "source": [
    "## a. Previewing the dataset\n",
    "We now load the dataset `kc_house_data` stored in the data folder. The data contains features that will be necessary for our modelling."
   ]
  },
  {
   "cell_type": "code",
   "execution_count": 2,
   "id": "571ef041",
   "metadata": {},
   "outputs": [
    {
     "data": {
      "text/html": [
       "<div>\n",
       "<style scoped>\n",
       "    .dataframe tbody tr th:only-of-type {\n",
       "        vertical-align: middle;\n",
       "    }\n",
       "\n",
       "    .dataframe tbody tr th {\n",
       "        vertical-align: top;\n",
       "    }\n",
       "\n",
       "    .dataframe thead th {\n",
       "        text-align: right;\n",
       "    }\n",
       "</style>\n",
       "<table border=\"1\" class=\"dataframe\">\n",
       "  <thead>\n",
       "    <tr style=\"text-align: right;\">\n",
       "      <th></th>\n",
       "      <th>id</th>\n",
       "      <th>date</th>\n",
       "      <th>price</th>\n",
       "      <th>bedrooms</th>\n",
       "      <th>bathrooms</th>\n",
       "      <th>sqft_living</th>\n",
       "      <th>sqft_lot</th>\n",
       "      <th>floors</th>\n",
       "      <th>waterfront</th>\n",
       "      <th>view</th>\n",
       "      <th>...</th>\n",
       "      <th>grade</th>\n",
       "      <th>sqft_above</th>\n",
       "      <th>sqft_basement</th>\n",
       "      <th>yr_built</th>\n",
       "      <th>yr_renovated</th>\n",
       "      <th>zipcode</th>\n",
       "      <th>lat</th>\n",
       "      <th>long</th>\n",
       "      <th>sqft_living15</th>\n",
       "      <th>sqft_lot15</th>\n",
       "    </tr>\n",
       "  </thead>\n",
       "  <tbody>\n",
       "    <tr>\n",
       "      <th>0</th>\n",
       "      <td>7129300520</td>\n",
       "      <td>10/13/2014</td>\n",
       "      <td>221900.0</td>\n",
       "      <td>3</td>\n",
       "      <td>1.00</td>\n",
       "      <td>1180</td>\n",
       "      <td>5650</td>\n",
       "      <td>1.0</td>\n",
       "      <td>NaN</td>\n",
       "      <td>NONE</td>\n",
       "      <td>...</td>\n",
       "      <td>7 Average</td>\n",
       "      <td>1180</td>\n",
       "      <td>0.0</td>\n",
       "      <td>1955</td>\n",
       "      <td>0.0</td>\n",
       "      <td>98178</td>\n",
       "      <td>47.5112</td>\n",
       "      <td>-122.257</td>\n",
       "      <td>1340</td>\n",
       "      <td>5650</td>\n",
       "    </tr>\n",
       "    <tr>\n",
       "      <th>1</th>\n",
       "      <td>6414100192</td>\n",
       "      <td>12/9/2014</td>\n",
       "      <td>538000.0</td>\n",
       "      <td>3</td>\n",
       "      <td>2.25</td>\n",
       "      <td>2570</td>\n",
       "      <td>7242</td>\n",
       "      <td>2.0</td>\n",
       "      <td>NO</td>\n",
       "      <td>NONE</td>\n",
       "      <td>...</td>\n",
       "      <td>7 Average</td>\n",
       "      <td>2170</td>\n",
       "      <td>400.0</td>\n",
       "      <td>1951</td>\n",
       "      <td>1991.0</td>\n",
       "      <td>98125</td>\n",
       "      <td>47.7210</td>\n",
       "      <td>-122.319</td>\n",
       "      <td>1690</td>\n",
       "      <td>7639</td>\n",
       "    </tr>\n",
       "    <tr>\n",
       "      <th>2</th>\n",
       "      <td>5631500400</td>\n",
       "      <td>2/25/2015</td>\n",
       "      <td>180000.0</td>\n",
       "      <td>2</td>\n",
       "      <td>1.00</td>\n",
       "      <td>770</td>\n",
       "      <td>10000</td>\n",
       "      <td>1.0</td>\n",
       "      <td>NO</td>\n",
       "      <td>NONE</td>\n",
       "      <td>...</td>\n",
       "      <td>6 Low Average</td>\n",
       "      <td>770</td>\n",
       "      <td>0.0</td>\n",
       "      <td>1933</td>\n",
       "      <td>NaN</td>\n",
       "      <td>98028</td>\n",
       "      <td>47.7379</td>\n",
       "      <td>-122.233</td>\n",
       "      <td>2720</td>\n",
       "      <td>8062</td>\n",
       "    </tr>\n",
       "    <tr>\n",
       "      <th>3</th>\n",
       "      <td>2487200875</td>\n",
       "      <td>12/9/2014</td>\n",
       "      <td>604000.0</td>\n",
       "      <td>4</td>\n",
       "      <td>3.00</td>\n",
       "      <td>1960</td>\n",
       "      <td>5000</td>\n",
       "      <td>1.0</td>\n",
       "      <td>NO</td>\n",
       "      <td>NONE</td>\n",
       "      <td>...</td>\n",
       "      <td>7 Average</td>\n",
       "      <td>1050</td>\n",
       "      <td>910.0</td>\n",
       "      <td>1965</td>\n",
       "      <td>0.0</td>\n",
       "      <td>98136</td>\n",
       "      <td>47.5208</td>\n",
       "      <td>-122.393</td>\n",
       "      <td>1360</td>\n",
       "      <td>5000</td>\n",
       "    </tr>\n",
       "    <tr>\n",
       "      <th>4</th>\n",
       "      <td>1954400510</td>\n",
       "      <td>2/18/2015</td>\n",
       "      <td>510000.0</td>\n",
       "      <td>3</td>\n",
       "      <td>2.00</td>\n",
       "      <td>1680</td>\n",
       "      <td>8080</td>\n",
       "      <td>1.0</td>\n",
       "      <td>NO</td>\n",
       "      <td>NONE</td>\n",
       "      <td>...</td>\n",
       "      <td>8 Good</td>\n",
       "      <td>1680</td>\n",
       "      <td>0.0</td>\n",
       "      <td>1987</td>\n",
       "      <td>0.0</td>\n",
       "      <td>98074</td>\n",
       "      <td>47.6168</td>\n",
       "      <td>-122.045</td>\n",
       "      <td>1800</td>\n",
       "      <td>7503</td>\n",
       "    </tr>\n",
       "    <tr>\n",
       "      <th>5</th>\n",
       "      <td>7237550310</td>\n",
       "      <td>5/12/2014</td>\n",
       "      <td>1230000.0</td>\n",
       "      <td>4</td>\n",
       "      <td>4.50</td>\n",
       "      <td>5420</td>\n",
       "      <td>101930</td>\n",
       "      <td>1.0</td>\n",
       "      <td>NO</td>\n",
       "      <td>NONE</td>\n",
       "      <td>...</td>\n",
       "      <td>11 Excellent</td>\n",
       "      <td>3890</td>\n",
       "      <td>1530.0</td>\n",
       "      <td>2001</td>\n",
       "      <td>0.0</td>\n",
       "      <td>98053</td>\n",
       "      <td>47.6561</td>\n",
       "      <td>-122.005</td>\n",
       "      <td>4760</td>\n",
       "      <td>101930</td>\n",
       "    </tr>\n",
       "    <tr>\n",
       "      <th>6</th>\n",
       "      <td>1321400060</td>\n",
       "      <td>6/27/2014</td>\n",
       "      <td>257500.0</td>\n",
       "      <td>3</td>\n",
       "      <td>2.25</td>\n",
       "      <td>1715</td>\n",
       "      <td>6819</td>\n",
       "      <td>2.0</td>\n",
       "      <td>NO</td>\n",
       "      <td>NONE</td>\n",
       "      <td>...</td>\n",
       "      <td>7 Average</td>\n",
       "      <td>1715</td>\n",
       "      <td>?</td>\n",
       "      <td>1995</td>\n",
       "      <td>0.0</td>\n",
       "      <td>98003</td>\n",
       "      <td>47.3097</td>\n",
       "      <td>-122.327</td>\n",
       "      <td>2238</td>\n",
       "      <td>6819</td>\n",
       "    </tr>\n",
       "    <tr>\n",
       "      <th>7</th>\n",
       "      <td>2008000270</td>\n",
       "      <td>1/15/2015</td>\n",
       "      <td>291850.0</td>\n",
       "      <td>3</td>\n",
       "      <td>1.50</td>\n",
       "      <td>1060</td>\n",
       "      <td>9711</td>\n",
       "      <td>1.0</td>\n",
       "      <td>NO</td>\n",
       "      <td>NaN</td>\n",
       "      <td>...</td>\n",
       "      <td>7 Average</td>\n",
       "      <td>1060</td>\n",
       "      <td>0.0</td>\n",
       "      <td>1963</td>\n",
       "      <td>0.0</td>\n",
       "      <td>98198</td>\n",
       "      <td>47.4095</td>\n",
       "      <td>-122.315</td>\n",
       "      <td>1650</td>\n",
       "      <td>9711</td>\n",
       "    </tr>\n",
       "    <tr>\n",
       "      <th>8</th>\n",
       "      <td>2414600126</td>\n",
       "      <td>4/15/2015</td>\n",
       "      <td>229500.0</td>\n",
       "      <td>3</td>\n",
       "      <td>1.00</td>\n",
       "      <td>1780</td>\n",
       "      <td>7470</td>\n",
       "      <td>1.0</td>\n",
       "      <td>NO</td>\n",
       "      <td>NONE</td>\n",
       "      <td>...</td>\n",
       "      <td>7 Average</td>\n",
       "      <td>1050</td>\n",
       "      <td>730.0</td>\n",
       "      <td>1960</td>\n",
       "      <td>0.0</td>\n",
       "      <td>98146</td>\n",
       "      <td>47.5123</td>\n",
       "      <td>-122.337</td>\n",
       "      <td>1780</td>\n",
       "      <td>8113</td>\n",
       "    </tr>\n",
       "    <tr>\n",
       "      <th>9</th>\n",
       "      <td>3793500160</td>\n",
       "      <td>3/12/2015</td>\n",
       "      <td>323000.0</td>\n",
       "      <td>3</td>\n",
       "      <td>2.50</td>\n",
       "      <td>1890</td>\n",
       "      <td>6560</td>\n",
       "      <td>2.0</td>\n",
       "      <td>NO</td>\n",
       "      <td>NONE</td>\n",
       "      <td>...</td>\n",
       "      <td>7 Average</td>\n",
       "      <td>1890</td>\n",
       "      <td>0.0</td>\n",
       "      <td>2003</td>\n",
       "      <td>0.0</td>\n",
       "      <td>98038</td>\n",
       "      <td>47.3684</td>\n",
       "      <td>-122.031</td>\n",
       "      <td>2390</td>\n",
       "      <td>7570</td>\n",
       "    </tr>\n",
       "  </tbody>\n",
       "</table>\n",
       "<p>10 rows × 21 columns</p>\n",
       "</div>"
      ],
      "text/plain": [
       "           id        date      price  bedrooms  bathrooms  sqft_living  \\\n",
       "0  7129300520  10/13/2014   221900.0         3       1.00         1180   \n",
       "1  6414100192   12/9/2014   538000.0         3       2.25         2570   \n",
       "2  5631500400   2/25/2015   180000.0         2       1.00          770   \n",
       "3  2487200875   12/9/2014   604000.0         4       3.00         1960   \n",
       "4  1954400510   2/18/2015   510000.0         3       2.00         1680   \n",
       "5  7237550310   5/12/2014  1230000.0         4       4.50         5420   \n",
       "6  1321400060   6/27/2014   257500.0         3       2.25         1715   \n",
       "7  2008000270   1/15/2015   291850.0         3       1.50         1060   \n",
       "8  2414600126   4/15/2015   229500.0         3       1.00         1780   \n",
       "9  3793500160   3/12/2015   323000.0         3       2.50         1890   \n",
       "\n",
       "   sqft_lot  floors waterfront  view  ...          grade sqft_above  \\\n",
       "0      5650     1.0        NaN  NONE  ...      7 Average       1180   \n",
       "1      7242     2.0         NO  NONE  ...      7 Average       2170   \n",
       "2     10000     1.0         NO  NONE  ...  6 Low Average        770   \n",
       "3      5000     1.0         NO  NONE  ...      7 Average       1050   \n",
       "4      8080     1.0         NO  NONE  ...         8 Good       1680   \n",
       "5    101930     1.0         NO  NONE  ...   11 Excellent       3890   \n",
       "6      6819     2.0         NO  NONE  ...      7 Average       1715   \n",
       "7      9711     1.0         NO   NaN  ...      7 Average       1060   \n",
       "8      7470     1.0         NO  NONE  ...      7 Average       1050   \n",
       "9      6560     2.0         NO  NONE  ...      7 Average       1890   \n",
       "\n",
       "   sqft_basement yr_built  yr_renovated  zipcode      lat     long  \\\n",
       "0            0.0     1955           0.0    98178  47.5112 -122.257   \n",
       "1          400.0     1951        1991.0    98125  47.7210 -122.319   \n",
       "2            0.0     1933           NaN    98028  47.7379 -122.233   \n",
       "3          910.0     1965           0.0    98136  47.5208 -122.393   \n",
       "4            0.0     1987           0.0    98074  47.6168 -122.045   \n",
       "5         1530.0     2001           0.0    98053  47.6561 -122.005   \n",
       "6              ?     1995           0.0    98003  47.3097 -122.327   \n",
       "7            0.0     1963           0.0    98198  47.4095 -122.315   \n",
       "8          730.0     1960           0.0    98146  47.5123 -122.337   \n",
       "9            0.0     2003           0.0    98038  47.3684 -122.031   \n",
       "\n",
       "   sqft_living15  sqft_lot15  \n",
       "0           1340        5650  \n",
       "1           1690        7639  \n",
       "2           2720        8062  \n",
       "3           1360        5000  \n",
       "4           1800        7503  \n",
       "5           4760      101930  \n",
       "6           2238        6819  \n",
       "7           1650        9711  \n",
       "8           1780        8113  \n",
       "9           2390        7570  \n",
       "\n",
       "[10 rows x 21 columns]"
      ]
     },
     "execution_count": 2,
     "metadata": {},
     "output_type": "execute_result"
    }
   ],
   "source": [
    "# loading the data using pandas and storing to variable df\n",
    "df = pd.read_csv('data/kc_house_data.csv')\n",
    "\n",
    "# previewing the first 10 rows\n",
    "df.head(10)"
   ]
  },
  {
   "cell_type": "markdown",
   "id": "268b1449",
   "metadata": {},
   "source": [
    "## b. Removing features which are not necessary\n",
    "Some of the columns in this dataset contain information which is not relevant for modelling. Before starting data cleaning, I'll remove some of these columns to remain with the most relevant.\n",
    "\n",
    "Columns to be removed are: `date`, `view`, `sqft_above`, `sqft_basement`, `yr_renovated`, `zipcode`, `lat`, `long`, `sqft_living15` and `sqft_lot15`."
   ]
  },
  {
   "cell_type": "code",
   "execution_count": 3,
   "id": "875cdfe9",
   "metadata": {},
   "outputs": [
    {
     "data": {
      "text/html": [
       "<div>\n",
       "<style scoped>\n",
       "    .dataframe tbody tr th:only-of-type {\n",
       "        vertical-align: middle;\n",
       "    }\n",
       "\n",
       "    .dataframe tbody tr th {\n",
       "        vertical-align: top;\n",
       "    }\n",
       "\n",
       "    .dataframe thead th {\n",
       "        text-align: right;\n",
       "    }\n",
       "</style>\n",
       "<table border=\"1\" class=\"dataframe\">\n",
       "  <thead>\n",
       "    <tr style=\"text-align: right;\">\n",
       "      <th></th>\n",
       "      <th>price</th>\n",
       "      <th>bedrooms</th>\n",
       "      <th>bathrooms</th>\n",
       "      <th>sqft_living</th>\n",
       "      <th>sqft_lot</th>\n",
       "      <th>floors</th>\n",
       "      <th>waterfront</th>\n",
       "      <th>condition</th>\n",
       "      <th>grade</th>\n",
       "      <th>yr_built</th>\n",
       "    </tr>\n",
       "  </thead>\n",
       "  <tbody>\n",
       "    <tr>\n",
       "      <th>0</th>\n",
       "      <td>221900.0</td>\n",
       "      <td>3</td>\n",
       "      <td>1.00</td>\n",
       "      <td>1180</td>\n",
       "      <td>5650</td>\n",
       "      <td>1.0</td>\n",
       "      <td>NaN</td>\n",
       "      <td>Average</td>\n",
       "      <td>7 Average</td>\n",
       "      <td>1955</td>\n",
       "    </tr>\n",
       "    <tr>\n",
       "      <th>1</th>\n",
       "      <td>538000.0</td>\n",
       "      <td>3</td>\n",
       "      <td>2.25</td>\n",
       "      <td>2570</td>\n",
       "      <td>7242</td>\n",
       "      <td>2.0</td>\n",
       "      <td>NO</td>\n",
       "      <td>Average</td>\n",
       "      <td>7 Average</td>\n",
       "      <td>1951</td>\n",
       "    </tr>\n",
       "    <tr>\n",
       "      <th>2</th>\n",
       "      <td>180000.0</td>\n",
       "      <td>2</td>\n",
       "      <td>1.00</td>\n",
       "      <td>770</td>\n",
       "      <td>10000</td>\n",
       "      <td>1.0</td>\n",
       "      <td>NO</td>\n",
       "      <td>Average</td>\n",
       "      <td>6 Low Average</td>\n",
       "      <td>1933</td>\n",
       "    </tr>\n",
       "    <tr>\n",
       "      <th>3</th>\n",
       "      <td>604000.0</td>\n",
       "      <td>4</td>\n",
       "      <td>3.00</td>\n",
       "      <td>1960</td>\n",
       "      <td>5000</td>\n",
       "      <td>1.0</td>\n",
       "      <td>NO</td>\n",
       "      <td>Very Good</td>\n",
       "      <td>7 Average</td>\n",
       "      <td>1965</td>\n",
       "    </tr>\n",
       "    <tr>\n",
       "      <th>4</th>\n",
       "      <td>510000.0</td>\n",
       "      <td>3</td>\n",
       "      <td>2.00</td>\n",
       "      <td>1680</td>\n",
       "      <td>8080</td>\n",
       "      <td>1.0</td>\n",
       "      <td>NO</td>\n",
       "      <td>Average</td>\n",
       "      <td>8 Good</td>\n",
       "      <td>1987</td>\n",
       "    </tr>\n",
       "    <tr>\n",
       "      <th>5</th>\n",
       "      <td>1230000.0</td>\n",
       "      <td>4</td>\n",
       "      <td>4.50</td>\n",
       "      <td>5420</td>\n",
       "      <td>101930</td>\n",
       "      <td>1.0</td>\n",
       "      <td>NO</td>\n",
       "      <td>Average</td>\n",
       "      <td>11 Excellent</td>\n",
       "      <td>2001</td>\n",
       "    </tr>\n",
       "    <tr>\n",
       "      <th>6</th>\n",
       "      <td>257500.0</td>\n",
       "      <td>3</td>\n",
       "      <td>2.25</td>\n",
       "      <td>1715</td>\n",
       "      <td>6819</td>\n",
       "      <td>2.0</td>\n",
       "      <td>NO</td>\n",
       "      <td>Average</td>\n",
       "      <td>7 Average</td>\n",
       "      <td>1995</td>\n",
       "    </tr>\n",
       "    <tr>\n",
       "      <th>7</th>\n",
       "      <td>291850.0</td>\n",
       "      <td>3</td>\n",
       "      <td>1.50</td>\n",
       "      <td>1060</td>\n",
       "      <td>9711</td>\n",
       "      <td>1.0</td>\n",
       "      <td>NO</td>\n",
       "      <td>Average</td>\n",
       "      <td>7 Average</td>\n",
       "      <td>1963</td>\n",
       "    </tr>\n",
       "    <tr>\n",
       "      <th>8</th>\n",
       "      <td>229500.0</td>\n",
       "      <td>3</td>\n",
       "      <td>1.00</td>\n",
       "      <td>1780</td>\n",
       "      <td>7470</td>\n",
       "      <td>1.0</td>\n",
       "      <td>NO</td>\n",
       "      <td>Average</td>\n",
       "      <td>7 Average</td>\n",
       "      <td>1960</td>\n",
       "    </tr>\n",
       "    <tr>\n",
       "      <th>9</th>\n",
       "      <td>323000.0</td>\n",
       "      <td>3</td>\n",
       "      <td>2.50</td>\n",
       "      <td>1890</td>\n",
       "      <td>6560</td>\n",
       "      <td>2.0</td>\n",
       "      <td>NO</td>\n",
       "      <td>Average</td>\n",
       "      <td>7 Average</td>\n",
       "      <td>2003</td>\n",
       "    </tr>\n",
       "  </tbody>\n",
       "</table>\n",
       "</div>"
      ],
      "text/plain": [
       "       price  bedrooms  bathrooms  sqft_living  sqft_lot  floors waterfront  \\\n",
       "0   221900.0         3       1.00         1180      5650     1.0        NaN   \n",
       "1   538000.0         3       2.25         2570      7242     2.0         NO   \n",
       "2   180000.0         2       1.00          770     10000     1.0         NO   \n",
       "3   604000.0         4       3.00         1960      5000     1.0         NO   \n",
       "4   510000.0         3       2.00         1680      8080     1.0         NO   \n",
       "5  1230000.0         4       4.50         5420    101930     1.0         NO   \n",
       "6   257500.0         3       2.25         1715      6819     2.0         NO   \n",
       "7   291850.0         3       1.50         1060      9711     1.0         NO   \n",
       "8   229500.0         3       1.00         1780      7470     1.0         NO   \n",
       "9   323000.0         3       2.50         1890      6560     2.0         NO   \n",
       "\n",
       "   condition          grade  yr_built  \n",
       "0    Average      7 Average      1955  \n",
       "1    Average      7 Average      1951  \n",
       "2    Average  6 Low Average      1933  \n",
       "3  Very Good      7 Average      1965  \n",
       "4    Average         8 Good      1987  \n",
       "5    Average   11 Excellent      2001  \n",
       "6    Average      7 Average      1995  \n",
       "7    Average      7 Average      1963  \n",
       "8    Average      7 Average      1960  \n",
       "9    Average      7 Average      2003  "
      ]
     },
     "execution_count": 3,
     "metadata": {},
     "output_type": "execute_result"
    }
   ],
   "source": [
    "#dropping columns and assigning to new variable data\n",
    "data = df.drop(columns = ['id','date','view','sqft_above','sqft_basement','yr_renovated','zipcode','lat','long','sqft_living15','sqft_lot15'], axis = 1)\n",
    "\n",
    "#previewing the first 10 rows\n",
    "data.head(10)"
   ]
  },
  {
   "cell_type": "markdown",
   "id": "879cbe94",
   "metadata": {},
   "source": [
    "## c. Data Cleaning\n",
    "Some of the columns may contain missing values,duplicates or incorrect formatting. In this stage, we are going to clean each column to remove these duplicates or missing values present. To start with, we'll first check for missing values in each table and deal with them."
   ]
  },
  {
   "cell_type": "markdown",
   "id": "70d0ac9d",
   "metadata": {},
   "source": [
    "## i) Identifying and handling missing values"
   ]
  },
  {
   "cell_type": "code",
   "execution_count": 4,
   "id": "59525c9d",
   "metadata": {},
   "outputs": [
    {
     "data": {
      "text/plain": [
       "price             0\n",
       "bedrooms          0\n",
       "bathrooms         0\n",
       "sqft_living       0\n",
       "sqft_lot          0\n",
       "floors            0\n",
       "waterfront     2376\n",
       "condition         0\n",
       "grade             0\n",
       "yr_built          0\n",
       "dtype: int64"
      ]
     },
     "execution_count": 4,
     "metadata": {},
     "output_type": "execute_result"
    }
   ],
   "source": [
    "#checking for missing values \n",
    "data.isnull().sum()"
   ]
  },
  {
   "cell_type": "markdown",
   "id": "6042f184",
   "metadata": {},
   "source": [
    "From the output above, the column `waterfront` contains 2376 missing values."
   ]
  },
  {
   "cell_type": "code",
   "execution_count": 5,
   "id": "d1ad9d19",
   "metadata": {},
   "outputs": [
    {
     "data": {
      "text/plain": [
       "NO     19075\n",
       "YES      146\n",
       "Name: waterfront, dtype: int64"
      ]
     },
     "execution_count": 5,
     "metadata": {},
     "output_type": "execute_result"
    }
   ],
   "source": [
    "data['waterfront'].value_counts()"
   ]
  },
  {
   "cell_type": "markdown",
   "id": "9a0d7c33",
   "metadata": {},
   "source": [
    "Since most of the values in column `waterfront` are No, I'll replace the missing values with NOs instead of just dropping the rows containing missing values."
   ]
  },
  {
   "cell_type": "code",
   "execution_count": 6,
   "id": "90d0b13a",
   "metadata": {},
   "outputs": [],
   "source": [
    "#replacing missing values in waterfron with NO\n",
    "data['waterfront'] = data['waterfront'].fillna('NO')"
   ]
  },
  {
   "cell_type": "code",
   "execution_count": 7,
   "id": "e1a1abd3",
   "metadata": {},
   "outputs": [
    {
     "data": {
      "text/plain": [
       "price          0\n",
       "bedrooms       0\n",
       "bathrooms      0\n",
       "sqft_living    0\n",
       "sqft_lot       0\n",
       "floors         0\n",
       "waterfront     0\n",
       "condition      0\n",
       "grade          0\n",
       "yr_built       0\n",
       "dtype: int64"
      ]
     },
     "execution_count": 7,
     "metadata": {},
     "output_type": "execute_result"
    }
   ],
   "source": [
    "#checking again for missing values\n",
    "data.isnull().sum()"
   ]
  },
  {
   "cell_type": "markdown",
   "id": "2a760aa9",
   "metadata": {},
   "source": [
    "I've removed all rows containing missing values and now I check for duplicates.\n",
    "## ii) Identifying and handling duplicates"
   ]
  },
  {
   "cell_type": "code",
   "execution_count": 8,
   "id": "d3f01c9a",
   "metadata": {},
   "outputs": [
    {
     "data": {
      "text/plain": [
       "False    21589\n",
       "True         8\n",
       "dtype: int64"
      ]
     },
     "execution_count": 8,
     "metadata": {},
     "output_type": "execute_result"
    }
   ],
   "source": [
    "#checking for duplicates\n",
    "data.duplicated().value_counts()"
   ]
  },
  {
   "cell_type": "markdown",
   "id": "24576e1e",
   "metadata": {},
   "source": [
    "The data contains three duplicate values. One needs to be dropped so that only unique values remain.\n",
    "### Dropping duplicates"
   ]
  },
  {
   "cell_type": "code",
   "execution_count": 9,
   "id": "0e52ff8c",
   "metadata": {},
   "outputs": [],
   "source": [
    "#dropping duplicates and keeping first\n",
    "data = data.drop_duplicates(keep = 'first')"
   ]
  },
  {
   "cell_type": "code",
   "execution_count": 10,
   "id": "3a56b0ef",
   "metadata": {},
   "outputs": [
    {
     "data": {
      "text/plain": [
       "False    21589\n",
       "dtype: int64"
      ]
     },
     "execution_count": 10,
     "metadata": {},
     "output_type": "execute_result"
    }
   ],
   "source": [
    "#checking again for duplicates\n",
    "data.duplicated().value_counts()"
   ]
  },
  {
   "cell_type": "markdown",
   "id": "80b2b0b6",
   "metadata": {},
   "source": [
    "Duplicates and missing values are now removed. Some of the columns are in a format that may make it difficult to create our models. Let's look at the data again:"
   ]
  },
  {
   "cell_type": "code",
   "execution_count": 11,
   "id": "867e9d7f",
   "metadata": {},
   "outputs": [
    {
     "data": {
      "text/html": [
       "<div>\n",
       "<style scoped>\n",
       "    .dataframe tbody tr th:only-of-type {\n",
       "        vertical-align: middle;\n",
       "    }\n",
       "\n",
       "    .dataframe tbody tr th {\n",
       "        vertical-align: top;\n",
       "    }\n",
       "\n",
       "    .dataframe thead th {\n",
       "        text-align: right;\n",
       "    }\n",
       "</style>\n",
       "<table border=\"1\" class=\"dataframe\">\n",
       "  <thead>\n",
       "    <tr style=\"text-align: right;\">\n",
       "      <th></th>\n",
       "      <th>price</th>\n",
       "      <th>bedrooms</th>\n",
       "      <th>bathrooms</th>\n",
       "      <th>sqft_living</th>\n",
       "      <th>sqft_lot</th>\n",
       "      <th>floors</th>\n",
       "      <th>waterfront</th>\n",
       "      <th>condition</th>\n",
       "      <th>grade</th>\n",
       "      <th>yr_built</th>\n",
       "    </tr>\n",
       "  </thead>\n",
       "  <tbody>\n",
       "    <tr>\n",
       "      <th>0</th>\n",
       "      <td>221900.0</td>\n",
       "      <td>3</td>\n",
       "      <td>1.00</td>\n",
       "      <td>1180</td>\n",
       "      <td>5650</td>\n",
       "      <td>1.0</td>\n",
       "      <td>NO</td>\n",
       "      <td>Average</td>\n",
       "      <td>7 Average</td>\n",
       "      <td>1955</td>\n",
       "    </tr>\n",
       "    <tr>\n",
       "      <th>1</th>\n",
       "      <td>538000.0</td>\n",
       "      <td>3</td>\n",
       "      <td>2.25</td>\n",
       "      <td>2570</td>\n",
       "      <td>7242</td>\n",
       "      <td>2.0</td>\n",
       "      <td>NO</td>\n",
       "      <td>Average</td>\n",
       "      <td>7 Average</td>\n",
       "      <td>1951</td>\n",
       "    </tr>\n",
       "    <tr>\n",
       "      <th>2</th>\n",
       "      <td>180000.0</td>\n",
       "      <td>2</td>\n",
       "      <td>1.00</td>\n",
       "      <td>770</td>\n",
       "      <td>10000</td>\n",
       "      <td>1.0</td>\n",
       "      <td>NO</td>\n",
       "      <td>Average</td>\n",
       "      <td>6 Low Average</td>\n",
       "      <td>1933</td>\n",
       "    </tr>\n",
       "    <tr>\n",
       "      <th>3</th>\n",
       "      <td>604000.0</td>\n",
       "      <td>4</td>\n",
       "      <td>3.00</td>\n",
       "      <td>1960</td>\n",
       "      <td>5000</td>\n",
       "      <td>1.0</td>\n",
       "      <td>NO</td>\n",
       "      <td>Very Good</td>\n",
       "      <td>7 Average</td>\n",
       "      <td>1965</td>\n",
       "    </tr>\n",
       "    <tr>\n",
       "      <th>4</th>\n",
       "      <td>510000.0</td>\n",
       "      <td>3</td>\n",
       "      <td>2.00</td>\n",
       "      <td>1680</td>\n",
       "      <td>8080</td>\n",
       "      <td>1.0</td>\n",
       "      <td>NO</td>\n",
       "      <td>Average</td>\n",
       "      <td>8 Good</td>\n",
       "      <td>1987</td>\n",
       "    </tr>\n",
       "  </tbody>\n",
       "</table>\n",
       "</div>"
      ],
      "text/plain": [
       "      price  bedrooms  bathrooms  sqft_living  sqft_lot  floors waterfront  \\\n",
       "0  221900.0         3       1.00         1180      5650     1.0         NO   \n",
       "1  538000.0         3       2.25         2570      7242     2.0         NO   \n",
       "2  180000.0         2       1.00          770     10000     1.0         NO   \n",
       "3  604000.0         4       3.00         1960      5000     1.0         NO   \n",
       "4  510000.0         3       2.00         1680      8080     1.0         NO   \n",
       "\n",
       "   condition          grade  yr_built  \n",
       "0    Average      7 Average      1955  \n",
       "1    Average      7 Average      1951  \n",
       "2    Average  6 Low Average      1933  \n",
       "3  Very Good      7 Average      1965  \n",
       "4    Average         8 Good      1987  "
      ]
     },
     "execution_count": 11,
     "metadata": {},
     "output_type": "execute_result"
    }
   ],
   "source": [
    "data.head()"
   ]
  },
  {
   "cell_type": "markdown",
   "id": "e79a4c57",
   "metadata": {},
   "source": [
    "## iii) Dealing with outliers\n",
    "Checking the values in column `bedrooms`."
   ]
  },
  {
   "cell_type": "code",
   "execution_count": 12,
   "id": "c98f1d43",
   "metadata": {},
   "outputs": [
    {
     "data": {
      "text/plain": [
       "3     9819\n",
       "4     6881\n",
       "2     2759\n",
       "5     1600\n",
       "6      272\n",
       "1      196\n",
       "7       38\n",
       "8       13\n",
       "9        6\n",
       "10       3\n",
       "11       1\n",
       "33       1\n",
       "Name: bedrooms, dtype: int64"
      ]
     },
     "execution_count": 12,
     "metadata": {},
     "output_type": "execute_result"
    }
   ],
   "source": [
    "#value counts in bedrooms\n",
    "data['bedrooms'].value_counts()"
   ]
  },
  {
   "cell_type": "markdown",
   "id": "34f9e432",
   "metadata": {},
   "source": [
    "From the data above, their is one house with 33 bedrooms. This might be an outlier. To confirm this let's look at the row where the number of bedrooms is 33 and check the SalePrice."
   ]
  },
  {
   "cell_type": "code",
   "execution_count": 13,
   "id": "3d269229",
   "metadata": {},
   "outputs": [
    {
     "data": {
      "text/html": [
       "<div>\n",
       "<style scoped>\n",
       "    .dataframe tbody tr th:only-of-type {\n",
       "        vertical-align: middle;\n",
       "    }\n",
       "\n",
       "    .dataframe tbody tr th {\n",
       "        vertical-align: top;\n",
       "    }\n",
       "\n",
       "    .dataframe thead th {\n",
       "        text-align: right;\n",
       "    }\n",
       "</style>\n",
       "<table border=\"1\" class=\"dataframe\">\n",
       "  <thead>\n",
       "    <tr style=\"text-align: right;\">\n",
       "      <th></th>\n",
       "      <th>price</th>\n",
       "      <th>bedrooms</th>\n",
       "      <th>bathrooms</th>\n",
       "      <th>sqft_living</th>\n",
       "      <th>sqft_lot</th>\n",
       "      <th>floors</th>\n",
       "      <th>waterfront</th>\n",
       "      <th>condition</th>\n",
       "      <th>grade</th>\n",
       "      <th>yr_built</th>\n",
       "    </tr>\n",
       "  </thead>\n",
       "  <tbody>\n",
       "    <tr>\n",
       "      <th>15856</th>\n",
       "      <td>640000.0</td>\n",
       "      <td>33</td>\n",
       "      <td>1.75</td>\n",
       "      <td>1620</td>\n",
       "      <td>6000</td>\n",
       "      <td>1.0</td>\n",
       "      <td>NO</td>\n",
       "      <td>Very Good</td>\n",
       "      <td>7 Average</td>\n",
       "      <td>1947</td>\n",
       "    </tr>\n",
       "  </tbody>\n",
       "</table>\n",
       "</div>"
      ],
      "text/plain": [
       "          price  bedrooms  bathrooms  sqft_living  sqft_lot  floors  \\\n",
       "15856  640000.0        33       1.75         1620      6000     1.0   \n",
       "\n",
       "      waterfront  condition      grade  yr_built  \n",
       "15856         NO  Very Good  7 Average      1947  "
      ]
     },
     "execution_count": 13,
     "metadata": {},
     "output_type": "execute_result"
    }
   ],
   "source": [
    "data.loc[data['bedrooms'] == 33]"
   ]
  },
  {
   "cell_type": "markdown",
   "id": "a6c5f317",
   "metadata": {},
   "source": [
    "The 33 may have been a typing error. Let's compare this sale price to that of a house with 3 bedrooms."
   ]
  },
  {
   "cell_type": "code",
   "execution_count": 14,
   "id": "69fb2f27",
   "metadata": {},
   "outputs": [
    {
     "data": {
      "text/html": [
       "<div>\n",
       "<style scoped>\n",
       "    .dataframe tbody tr th:only-of-type {\n",
       "        vertical-align: middle;\n",
       "    }\n",
       "\n",
       "    .dataframe tbody tr th {\n",
       "        vertical-align: top;\n",
       "    }\n",
       "\n",
       "    .dataframe thead th {\n",
       "        text-align: right;\n",
       "    }\n",
       "</style>\n",
       "<table border=\"1\" class=\"dataframe\">\n",
       "  <thead>\n",
       "    <tr style=\"text-align: right;\">\n",
       "      <th></th>\n",
       "      <th>price</th>\n",
       "      <th>bedrooms</th>\n",
       "      <th>bathrooms</th>\n",
       "      <th>sqft_living</th>\n",
       "      <th>sqft_lot</th>\n",
       "      <th>floors</th>\n",
       "      <th>waterfront</th>\n",
       "      <th>condition</th>\n",
       "      <th>grade</th>\n",
       "      <th>yr_built</th>\n",
       "    </tr>\n",
       "  </thead>\n",
       "  <tbody>\n",
       "    <tr>\n",
       "      <th>0</th>\n",
       "      <td>221900.0</td>\n",
       "      <td>3</td>\n",
       "      <td>1.00</td>\n",
       "      <td>1180</td>\n",
       "      <td>5650</td>\n",
       "      <td>1.0</td>\n",
       "      <td>NO</td>\n",
       "      <td>Average</td>\n",
       "      <td>7 Average</td>\n",
       "      <td>1955</td>\n",
       "    </tr>\n",
       "    <tr>\n",
       "      <th>1</th>\n",
       "      <td>538000.0</td>\n",
       "      <td>3</td>\n",
       "      <td>2.25</td>\n",
       "      <td>2570</td>\n",
       "      <td>7242</td>\n",
       "      <td>2.0</td>\n",
       "      <td>NO</td>\n",
       "      <td>Average</td>\n",
       "      <td>7 Average</td>\n",
       "      <td>1951</td>\n",
       "    </tr>\n",
       "    <tr>\n",
       "      <th>4</th>\n",
       "      <td>510000.0</td>\n",
       "      <td>3</td>\n",
       "      <td>2.00</td>\n",
       "      <td>1680</td>\n",
       "      <td>8080</td>\n",
       "      <td>1.0</td>\n",
       "      <td>NO</td>\n",
       "      <td>Average</td>\n",
       "      <td>8 Good</td>\n",
       "      <td>1987</td>\n",
       "    </tr>\n",
       "  </tbody>\n",
       "</table>\n",
       "</div>"
      ],
      "text/plain": [
       "      price  bedrooms  bathrooms  sqft_living  sqft_lot  floors waterfront  \\\n",
       "0  221900.0         3       1.00         1180      5650     1.0         NO   \n",
       "1  538000.0         3       2.25         2570      7242     2.0         NO   \n",
       "4  510000.0         3       2.00         1680      8080     1.0         NO   \n",
       "\n",
       "  condition      grade  yr_built  \n",
       "0   Average  7 Average      1955  \n",
       "1   Average  7 Average      1951  \n",
       "4   Average     8 Good      1987  "
      ]
     },
     "execution_count": 14,
     "metadata": {},
     "output_type": "execute_result"
    }
   ],
   "source": [
    "data.loc[data['bedrooms'] == 3].head(3)"
   ]
  },
  {
   "cell_type": "markdown",
   "id": "c3535123",
   "metadata": {},
   "source": [
    "From the table above, I am confident to say that a house with 33 bedrooms could not be sold at that sale price which is nearly similar to that of houses with 3 bedrooms.\n",
    "I'll replace the 33 bedrooms with 3 bedrooms to replace this outlier."
   ]
  },
  {
   "cell_type": "code",
   "execution_count": 15,
   "id": "2258640e",
   "metadata": {},
   "outputs": [],
   "source": [
    "#replacing 33 with 3\n",
    "data['bedrooms'].replace(33,3, inplace = True)"
   ]
  },
  {
   "cell_type": "markdown",
   "id": "9f6a207e",
   "metadata": {},
   "source": [
    "## iv) Converting format of columns\n",
    "The column `bathrooms` and `floors` are decimals. Since we can't have a house with bathrooms in fractions or floors in fractions, we need to convert the type of these values to integer whole numbers."
   ]
  },
  {
   "cell_type": "code",
   "execution_count": 16,
   "id": "f44e6cac",
   "metadata": {},
   "outputs": [
    {
     "data": {
      "text/html": [
       "<div>\n",
       "<style scoped>\n",
       "    .dataframe tbody tr th:only-of-type {\n",
       "        vertical-align: middle;\n",
       "    }\n",
       "\n",
       "    .dataframe tbody tr th {\n",
       "        vertical-align: top;\n",
       "    }\n",
       "\n",
       "    .dataframe thead th {\n",
       "        text-align: right;\n",
       "    }\n",
       "</style>\n",
       "<table border=\"1\" class=\"dataframe\">\n",
       "  <thead>\n",
       "    <tr style=\"text-align: right;\">\n",
       "      <th></th>\n",
       "      <th>price</th>\n",
       "      <th>bedrooms</th>\n",
       "      <th>bathrooms</th>\n",
       "      <th>sqft_living</th>\n",
       "      <th>sqft_lot</th>\n",
       "      <th>floors</th>\n",
       "      <th>waterfront</th>\n",
       "      <th>condition</th>\n",
       "      <th>grade</th>\n",
       "      <th>yr_built</th>\n",
       "    </tr>\n",
       "  </thead>\n",
       "  <tbody>\n",
       "    <tr>\n",
       "      <th>0</th>\n",
       "      <td>221900</td>\n",
       "      <td>3</td>\n",
       "      <td>1</td>\n",
       "      <td>1180</td>\n",
       "      <td>5650</td>\n",
       "      <td>1</td>\n",
       "      <td>NO</td>\n",
       "      <td>Average</td>\n",
       "      <td>7 Average</td>\n",
       "      <td>1955</td>\n",
       "    </tr>\n",
       "    <tr>\n",
       "      <th>1</th>\n",
       "      <td>538000</td>\n",
       "      <td>3</td>\n",
       "      <td>2</td>\n",
       "      <td>2570</td>\n",
       "      <td>7242</td>\n",
       "      <td>2</td>\n",
       "      <td>NO</td>\n",
       "      <td>Average</td>\n",
       "      <td>7 Average</td>\n",
       "      <td>1951</td>\n",
       "    </tr>\n",
       "    <tr>\n",
       "      <th>2</th>\n",
       "      <td>180000</td>\n",
       "      <td>2</td>\n",
       "      <td>1</td>\n",
       "      <td>770</td>\n",
       "      <td>10000</td>\n",
       "      <td>1</td>\n",
       "      <td>NO</td>\n",
       "      <td>Average</td>\n",
       "      <td>6 Low Average</td>\n",
       "      <td>1933</td>\n",
       "    </tr>\n",
       "    <tr>\n",
       "      <th>3</th>\n",
       "      <td>604000</td>\n",
       "      <td>4</td>\n",
       "      <td>3</td>\n",
       "      <td>1960</td>\n",
       "      <td>5000</td>\n",
       "      <td>1</td>\n",
       "      <td>NO</td>\n",
       "      <td>Very Good</td>\n",
       "      <td>7 Average</td>\n",
       "      <td>1965</td>\n",
       "    </tr>\n",
       "    <tr>\n",
       "      <th>4</th>\n",
       "      <td>510000</td>\n",
       "      <td>3</td>\n",
       "      <td>2</td>\n",
       "      <td>1680</td>\n",
       "      <td>8080</td>\n",
       "      <td>1</td>\n",
       "      <td>NO</td>\n",
       "      <td>Average</td>\n",
       "      <td>8 Good</td>\n",
       "      <td>1987</td>\n",
       "    </tr>\n",
       "  </tbody>\n",
       "</table>\n",
       "</div>"
      ],
      "text/plain": [
       "    price  bedrooms  bathrooms  sqft_living  sqft_lot  floors waterfront  \\\n",
       "0  221900         3          1         1180      5650       1         NO   \n",
       "1  538000         3          2         2570      7242       2         NO   \n",
       "2  180000         2          1          770     10000       1         NO   \n",
       "3  604000         4          3         1960      5000       1         NO   \n",
       "4  510000         3          2         1680      8080       1         NO   \n",
       "\n",
       "   condition          grade  yr_built  \n",
       "0    Average      7 Average      1955  \n",
       "1    Average      7 Average      1951  \n",
       "2    Average  6 Low Average      1933  \n",
       "3  Very Good      7 Average      1965  \n",
       "4    Average         8 Good      1987  "
      ]
     },
     "execution_count": 16,
     "metadata": {},
     "output_type": "execute_result"
    }
   ],
   "source": [
    "# converting data types\n",
    "data[['floors', 'bathrooms', 'price']] = data[['floors', 'bathrooms', 'price']].astype(int)\n",
    "\n",
    "#previewing\n",
    "data.head()"
   ]
  },
  {
   "cell_type": "markdown",
   "id": "9a11364c",
   "metadata": {},
   "source": [
    "## v) Dealing with categorical variables\n",
    "Columns `waterfront`, `condition` and `grade` contain categorical variables. In order to begin modelling, we'll need to transform these variables into binary vector representations.\n",
    "### Starting with `waterfront` column:"
   ]
  },
  {
   "cell_type": "code",
   "execution_count": 17,
   "id": "4aca7470",
   "metadata": {},
   "outputs": [
    {
     "data": {
      "text/plain": [
       "NO     21443\n",
       "YES      146\n",
       "Name: waterfront, dtype: int64"
      ]
     },
     "execution_count": 17,
     "metadata": {},
     "output_type": "execute_result"
    }
   ],
   "source": [
    "#checking the categories present\n",
    "data['waterfront'].value_counts()"
   ]
  },
  {
   "cell_type": "markdown",
   "id": "6c14a3a6",
   "metadata": {},
   "source": [
    "From above we can see that the column has only **YES** and **NO** values. I'll replace these values with a \"1\" and \"0\" respectively.\n",
    "> 1 = YES\n",
    "\n",
    "> 0 = NO"
   ]
  },
  {
   "cell_type": "code",
   "execution_count": 18,
   "id": "452fe69e",
   "metadata": {},
   "outputs": [],
   "source": [
    "#replacing YES and NO with 1 and ) respectively\n",
    "data['waterfront'] = data['waterfront'].replace(['YES','NO'], [1,0])"
   ]
  },
  {
   "cell_type": "markdown",
   "id": "c7764954",
   "metadata": {},
   "source": [
    "Previewing the data in column waterfront:"
   ]
  },
  {
   "cell_type": "code",
   "execution_count": 19,
   "id": "4b7f97d1",
   "metadata": {},
   "outputs": [
    {
     "data": {
      "text/plain": [
       "0    21443\n",
       "1      146\n",
       "Name: waterfront, dtype: int64"
      ]
     },
     "execution_count": 19,
     "metadata": {},
     "output_type": "execute_result"
    }
   ],
   "source": [
    "data['waterfront'].value_counts()"
   ]
  },
  {
   "cell_type": "markdown",
   "id": "71bd1e52",
   "metadata": {},
   "source": [
    "### Next, `condition` column."
   ]
  },
  {
   "cell_type": "code",
   "execution_count": 20,
   "id": "593f2c39",
   "metadata": {},
   "outputs": [
    {
     "data": {
      "text/plain": [
       "Average      14013\n",
       "Good          5676\n",
       "Very Good     1701\n",
       "Fair           170\n",
       "Poor            29\n",
       "Name: condition, dtype: int64"
      ]
     },
     "execution_count": 20,
     "metadata": {},
     "output_type": "execute_result"
    }
   ],
   "source": [
    "#checking the categories present\n",
    "data['condition'].value_counts()"
   ]
  },
  {
   "cell_type": "markdown",
   "id": "15c2a1d9",
   "metadata": {},
   "source": [
    "This column contains \"Average\", \"Good\", \"Very Good\", \"Fair\" and \"Poor\" values. Here we'll use ordinary encoding as the categories have a natural order or hierarchy. I'll replace as follows:\n",
    "> 1 = Poor\n",
    "\n",
    "> 2 = Fair\n",
    "\n",
    "> 3 = Average\n",
    "\n",
    "> 4 = Good\n",
    "\n",
    "> 5 = Very Good"
   ]
  },
  {
   "cell_type": "code",
   "execution_count": 21,
   "id": "83703cfb",
   "metadata": {},
   "outputs": [],
   "source": [
    "#replacing these values\n",
    "data['condition'] = data['condition'].replace(['Poor','Fair', 'Average', 'Good', 'Very Good'], [1,2,3,4,5])"
   ]
  },
  {
   "cell_type": "markdown",
   "id": "955231a2",
   "metadata": {},
   "source": [
    "Previewing the data in this column:"
   ]
  },
  {
   "cell_type": "code",
   "execution_count": 22,
   "id": "643084e7",
   "metadata": {},
   "outputs": [
    {
     "data": {
      "text/plain": [
       "3    14013\n",
       "4     5676\n",
       "5     1701\n",
       "2      170\n",
       "1       29\n",
       "Name: condition, dtype: int64"
      ]
     },
     "execution_count": 22,
     "metadata": {},
     "output_type": "execute_result"
    }
   ],
   "source": [
    "data['condition'].value_counts()"
   ]
  },
  {
   "cell_type": "markdown",
   "id": "7b6267d3",
   "metadata": {},
   "source": [
    "### Finally, `grade` column."
   ]
  },
  {
   "cell_type": "code",
   "execution_count": 23,
   "id": "3761e138",
   "metadata": {},
   "outputs": [
    {
     "data": {
      "text/plain": [
       "7 Average        8974\n",
       "8 Good           6061\n",
       "9 Better         2611\n",
       "6 Low Average    2038\n",
       "10 Very Good     1134\n",
       "11 Excellent      399\n",
       "5 Fair            242\n",
       "12 Luxury          89\n",
       "4 Low              27\n",
       "13 Mansion         13\n",
       "3 Poor              1\n",
       "Name: grade, dtype: int64"
      ]
     },
     "execution_count": 23,
     "metadata": {},
     "output_type": "execute_result"
    }
   ],
   "source": [
    "#checking the categories present\n",
    "data['grade'].value_counts()"
   ]
  },
  {
   "cell_type": "markdown",
   "id": "f2c53578",
   "metadata": {},
   "source": [
    "First, we need to identify the numeric portion of eachcategory as the values contain numeric values as well as string values. These are the numeric portions present with their respective assignment:\n",
    "> 3 = Poor\n",
    "\n",
    "> 4 = Low\n",
    "\n",
    "> 5 = Fair\n",
    "\n",
    "> 6 = Low Average\n",
    "\n",
    "> 7 = Average\n",
    "\n",
    "> 8 = Good\n",
    "\n",
    "> 9 = Better\n",
    "\n",
    "> 10 = Very Good\n",
    "\n",
    "> 11 = Excellent\n",
    "\n",
    "> 12 = Luxury\n",
    "\n",
    "> 13 = Mansion\n",
    "\n",
    "First of all, I'll need to remove any leading or trailing whitespaces from each value in the column to ensure consistent formatting. Then I will select only the integer values:"
   ]
  },
  {
   "cell_type": "code",
   "execution_count": 24,
   "id": "131c7cfc",
   "metadata": {},
   "outputs": [],
   "source": [
    "#removing whitespaces and selecting integer values\n",
    "data['grade'] = data['grade'].str.split().str[0].astype(int)"
   ]
  },
  {
   "cell_type": "markdown",
   "id": "4c901df1",
   "metadata": {},
   "source": [
    "Now that I've replaced all categorical variables with their respective binary representation, let't look at our data'"
   ]
  },
  {
   "cell_type": "code",
   "execution_count": 25,
   "id": "3e89007b",
   "metadata": {},
   "outputs": [
    {
     "data": {
      "text/html": [
       "<div>\n",
       "<style scoped>\n",
       "    .dataframe tbody tr th:only-of-type {\n",
       "        vertical-align: middle;\n",
       "    }\n",
       "\n",
       "    .dataframe tbody tr th {\n",
       "        vertical-align: top;\n",
       "    }\n",
       "\n",
       "    .dataframe thead th {\n",
       "        text-align: right;\n",
       "    }\n",
       "</style>\n",
       "<table border=\"1\" class=\"dataframe\">\n",
       "  <thead>\n",
       "    <tr style=\"text-align: right;\">\n",
       "      <th></th>\n",
       "      <th>price</th>\n",
       "      <th>bedrooms</th>\n",
       "      <th>bathrooms</th>\n",
       "      <th>sqft_living</th>\n",
       "      <th>sqft_lot</th>\n",
       "      <th>floors</th>\n",
       "      <th>waterfront</th>\n",
       "      <th>condition</th>\n",
       "      <th>grade</th>\n",
       "      <th>yr_built</th>\n",
       "    </tr>\n",
       "  </thead>\n",
       "  <tbody>\n",
       "    <tr>\n",
       "      <th>0</th>\n",
       "      <td>221900</td>\n",
       "      <td>3</td>\n",
       "      <td>1</td>\n",
       "      <td>1180</td>\n",
       "      <td>5650</td>\n",
       "      <td>1</td>\n",
       "      <td>0</td>\n",
       "      <td>3</td>\n",
       "      <td>7</td>\n",
       "      <td>1955</td>\n",
       "    </tr>\n",
       "    <tr>\n",
       "      <th>1</th>\n",
       "      <td>538000</td>\n",
       "      <td>3</td>\n",
       "      <td>2</td>\n",
       "      <td>2570</td>\n",
       "      <td>7242</td>\n",
       "      <td>2</td>\n",
       "      <td>0</td>\n",
       "      <td>3</td>\n",
       "      <td>7</td>\n",
       "      <td>1951</td>\n",
       "    </tr>\n",
       "    <tr>\n",
       "      <th>2</th>\n",
       "      <td>180000</td>\n",
       "      <td>2</td>\n",
       "      <td>1</td>\n",
       "      <td>770</td>\n",
       "      <td>10000</td>\n",
       "      <td>1</td>\n",
       "      <td>0</td>\n",
       "      <td>3</td>\n",
       "      <td>6</td>\n",
       "      <td>1933</td>\n",
       "    </tr>\n",
       "    <tr>\n",
       "      <th>3</th>\n",
       "      <td>604000</td>\n",
       "      <td>4</td>\n",
       "      <td>3</td>\n",
       "      <td>1960</td>\n",
       "      <td>5000</td>\n",
       "      <td>1</td>\n",
       "      <td>0</td>\n",
       "      <td>5</td>\n",
       "      <td>7</td>\n",
       "      <td>1965</td>\n",
       "    </tr>\n",
       "    <tr>\n",
       "      <th>4</th>\n",
       "      <td>510000</td>\n",
       "      <td>3</td>\n",
       "      <td>2</td>\n",
       "      <td>1680</td>\n",
       "      <td>8080</td>\n",
       "      <td>1</td>\n",
       "      <td>0</td>\n",
       "      <td>3</td>\n",
       "      <td>8</td>\n",
       "      <td>1987</td>\n",
       "    </tr>\n",
       "    <tr>\n",
       "      <th>5</th>\n",
       "      <td>1230000</td>\n",
       "      <td>4</td>\n",
       "      <td>4</td>\n",
       "      <td>5420</td>\n",
       "      <td>101930</td>\n",
       "      <td>1</td>\n",
       "      <td>0</td>\n",
       "      <td>3</td>\n",
       "      <td>11</td>\n",
       "      <td>2001</td>\n",
       "    </tr>\n",
       "    <tr>\n",
       "      <th>6</th>\n",
       "      <td>257500</td>\n",
       "      <td>3</td>\n",
       "      <td>2</td>\n",
       "      <td>1715</td>\n",
       "      <td>6819</td>\n",
       "      <td>2</td>\n",
       "      <td>0</td>\n",
       "      <td>3</td>\n",
       "      <td>7</td>\n",
       "      <td>1995</td>\n",
       "    </tr>\n",
       "    <tr>\n",
       "      <th>7</th>\n",
       "      <td>291850</td>\n",
       "      <td>3</td>\n",
       "      <td>1</td>\n",
       "      <td>1060</td>\n",
       "      <td>9711</td>\n",
       "      <td>1</td>\n",
       "      <td>0</td>\n",
       "      <td>3</td>\n",
       "      <td>7</td>\n",
       "      <td>1963</td>\n",
       "    </tr>\n",
       "    <tr>\n",
       "      <th>8</th>\n",
       "      <td>229500</td>\n",
       "      <td>3</td>\n",
       "      <td>1</td>\n",
       "      <td>1780</td>\n",
       "      <td>7470</td>\n",
       "      <td>1</td>\n",
       "      <td>0</td>\n",
       "      <td>3</td>\n",
       "      <td>7</td>\n",
       "      <td>1960</td>\n",
       "    </tr>\n",
       "    <tr>\n",
       "      <th>9</th>\n",
       "      <td>323000</td>\n",
       "      <td>3</td>\n",
       "      <td>2</td>\n",
       "      <td>1890</td>\n",
       "      <td>6560</td>\n",
       "      <td>2</td>\n",
       "      <td>0</td>\n",
       "      <td>3</td>\n",
       "      <td>7</td>\n",
       "      <td>2003</td>\n",
       "    </tr>\n",
       "  </tbody>\n",
       "</table>\n",
       "</div>"
      ],
      "text/plain": [
       "     price  bedrooms  bathrooms  sqft_living  sqft_lot  floors  waterfront  \\\n",
       "0   221900         3          1         1180      5650       1           0   \n",
       "1   538000         3          2         2570      7242       2           0   \n",
       "2   180000         2          1          770     10000       1           0   \n",
       "3   604000         4          3         1960      5000       1           0   \n",
       "4   510000         3          2         1680      8080       1           0   \n",
       "5  1230000         4          4         5420    101930       1           0   \n",
       "6   257500         3          2         1715      6819       2           0   \n",
       "7   291850         3          1         1060      9711       1           0   \n",
       "8   229500         3          1         1780      7470       1           0   \n",
       "9   323000         3          2         1890      6560       2           0   \n",
       "\n",
       "   condition  grade  yr_built  \n",
       "0          3      7      1955  \n",
       "1          3      7      1951  \n",
       "2          3      6      1933  \n",
       "3          5      7      1965  \n",
       "4          3      8      1987  \n",
       "5          3     11      2001  \n",
       "6          3      7      1995  \n",
       "7          3      7      1963  \n",
       "8          3      7      1960  \n",
       "9          3      7      2003  "
      ]
     },
     "execution_count": 25,
     "metadata": {},
     "output_type": "execute_result"
    }
   ],
   "source": [
    "data.head(10)"
   ]
  },
  {
   "cell_type": "markdown",
   "id": "cde21a0d",
   "metadata": {},
   "source": [
    "### Renaming `price` column to `SalePrice` for a better understanding:"
   ]
  },
  {
   "cell_type": "code",
   "execution_count": 26,
   "id": "a06a54cc",
   "metadata": {},
   "outputs": [],
   "source": [
    "#renaming column price\n",
    "data.rename(columns = {'price': 'SalePrice'}, inplace = True)"
   ]
  },
  {
   "cell_type": "code",
   "execution_count": 27,
   "id": "f996dd72",
   "metadata": {},
   "outputs": [
    {
     "data": {
      "text/html": [
       "<div>\n",
       "<style scoped>\n",
       "    .dataframe tbody tr th:only-of-type {\n",
       "        vertical-align: middle;\n",
       "    }\n",
       "\n",
       "    .dataframe tbody tr th {\n",
       "        vertical-align: top;\n",
       "    }\n",
       "\n",
       "    .dataframe thead th {\n",
       "        text-align: right;\n",
       "    }\n",
       "</style>\n",
       "<table border=\"1\" class=\"dataframe\">\n",
       "  <thead>\n",
       "    <tr style=\"text-align: right;\">\n",
       "      <th></th>\n",
       "      <th>SalePrice</th>\n",
       "      <th>bedrooms</th>\n",
       "      <th>bathrooms</th>\n",
       "      <th>sqft_living</th>\n",
       "      <th>sqft_lot</th>\n",
       "      <th>floors</th>\n",
       "      <th>waterfront</th>\n",
       "      <th>condition</th>\n",
       "      <th>grade</th>\n",
       "      <th>yr_built</th>\n",
       "    </tr>\n",
       "  </thead>\n",
       "  <tbody>\n",
       "    <tr>\n",
       "      <th>0</th>\n",
       "      <td>221900</td>\n",
       "      <td>3</td>\n",
       "      <td>1</td>\n",
       "      <td>1180</td>\n",
       "      <td>5650</td>\n",
       "      <td>1</td>\n",
       "      <td>0</td>\n",
       "      <td>3</td>\n",
       "      <td>7</td>\n",
       "      <td>1955</td>\n",
       "    </tr>\n",
       "    <tr>\n",
       "      <th>1</th>\n",
       "      <td>538000</td>\n",
       "      <td>3</td>\n",
       "      <td>2</td>\n",
       "      <td>2570</td>\n",
       "      <td>7242</td>\n",
       "      <td>2</td>\n",
       "      <td>0</td>\n",
       "      <td>3</td>\n",
       "      <td>7</td>\n",
       "      <td>1951</td>\n",
       "    </tr>\n",
       "    <tr>\n",
       "      <th>2</th>\n",
       "      <td>180000</td>\n",
       "      <td>2</td>\n",
       "      <td>1</td>\n",
       "      <td>770</td>\n",
       "      <td>10000</td>\n",
       "      <td>1</td>\n",
       "      <td>0</td>\n",
       "      <td>3</td>\n",
       "      <td>6</td>\n",
       "      <td>1933</td>\n",
       "    </tr>\n",
       "    <tr>\n",
       "      <th>3</th>\n",
       "      <td>604000</td>\n",
       "      <td>4</td>\n",
       "      <td>3</td>\n",
       "      <td>1960</td>\n",
       "      <td>5000</td>\n",
       "      <td>1</td>\n",
       "      <td>0</td>\n",
       "      <td>5</td>\n",
       "      <td>7</td>\n",
       "      <td>1965</td>\n",
       "    </tr>\n",
       "    <tr>\n",
       "      <th>4</th>\n",
       "      <td>510000</td>\n",
       "      <td>3</td>\n",
       "      <td>2</td>\n",
       "      <td>1680</td>\n",
       "      <td>8080</td>\n",
       "      <td>1</td>\n",
       "      <td>0</td>\n",
       "      <td>3</td>\n",
       "      <td>8</td>\n",
       "      <td>1987</td>\n",
       "    </tr>\n",
       "  </tbody>\n",
       "</table>\n",
       "</div>"
      ],
      "text/plain": [
       "   SalePrice  bedrooms  bathrooms  sqft_living  sqft_lot  floors  waterfront  \\\n",
       "0     221900         3          1         1180      5650       1           0   \n",
       "1     538000         3          2         2570      7242       2           0   \n",
       "2     180000         2          1          770     10000       1           0   \n",
       "3     604000         4          3         1960      5000       1           0   \n",
       "4     510000         3          2         1680      8080       1           0   \n",
       "\n",
       "   condition  grade  yr_built  \n",
       "0          3      7      1955  \n",
       "1          3      7      1951  \n",
       "2          3      6      1933  \n",
       "3          5      7      1965  \n",
       "4          3      8      1987  "
      ]
     },
     "execution_count": 27,
     "metadata": {},
     "output_type": "execute_result"
    }
   ],
   "source": [
    "#previewing the data\n",
    "data.head()"
   ]
  },
  {
   "cell_type": "markdown",
   "id": "e51f51bf",
   "metadata": {},
   "source": [
    "# Data Exploration\n",
    "Here, we'll try to answer the questions from our business understanding.\n",
    "### 1. Does the number of bedrooms have an impact on sale price?"
   ]
  },
  {
   "cell_type": "code",
   "execution_count": 28,
   "id": "4fb04db8",
   "metadata": {},
   "outputs": [
    {
     "data": {
      "image/png": "[encoded data removed]",
      "text/plain": [
       "<Figure size 640x480 with 1 Axes>"
      ]
     },
     "metadata": {},
     "output_type": "display_data"
    }
   ],
   "source": [
    "#plotting a bar plot to visualize number of bedrooms against sale price\n",
    "sns.barplot(x = data['bedrooms'], y = data['SalePrice'], data = data, color = 'blue', alpha = 0.5);"
   ]
  },
  {
   "cell_type": "markdown",
   "id": "b3b4b758",
   "metadata": {},
   "source": [
    "From the barplot above, houses with 8 bedrooms have the highest SalePrice. Houses with fewer bedrooms have a lower Sale Price which would mean that home buyers would prefer houses with more bedrooms."
   ]
  },
  {
   "cell_type": "markdown",
   "id": "2beaa85c",
   "metadata": {},
   "source": [
    "### 2. How does square feet of living room area impact sale price?"
   ]
  },
  {
   "cell_type": "code",
   "execution_count": 29,
   "id": "34d3590f",
   "metadata": {},
   "outputs": [
    {
     "data": {
      "image/png": "[encoded data removed]",
      "text/plain": [
       "<Figure size 640x480 with 1 Axes>"
      ]
     },
     "metadata": {},
     "output_type": "display_data"
    }
   ],
   "source": [
    "#plotting a bar plot to visualize number of bedrooms against sale price\n",
    "sns.barplot(x = data['sqft_living'], y = data['SalePrice'], data = data,  color = 'blue', alpha = 0.5);"
   ]
  },
  {
   "cell_type": "markdown",
   "id": "d1f9c90a",
   "metadata": {},
   "source": [
    "Clearly, houses with larger living room area square feet have a higher sale price. The price of houses increases with increase in square feet of living area."
   ]
  },
  {
   "cell_type": "markdown",
   "id": "2b009f1e",
   "metadata": {},
   "source": [
    "### 3. Does presence or absence of a waterfront have an impact on saleprice?"
   ]
  },
  {
   "cell_type": "code",
   "execution_count": 30,
   "id": "9e08bb06",
   "metadata": {},
   "outputs": [
    {
     "data": {
      "image/png": "[encoded data removed]",
      "text/plain": [
       "<Figure size 640x480 with 1 Axes>"
      ]
     },
     "metadata": {},
     "output_type": "display_data"
    }
   ],
   "source": [
    "#plotting a bar plot to visualize number of bedrooms against sale price\n",
    "sns.barplot(x = data['waterfront'], y = data['SalePrice'], data = data,  color = 'blue', alpha = 0.5);"
   ]
  },
  {
   "cell_type": "markdown",
   "id": "04050cfc",
   "metadata": {},
   "source": [
    "From the graph above, houses with a view to a waterfron have a higher sale price than house with no view to a waterfront."
   ]
  },
  {
   "cell_type": "markdown",
   "id": "6ce5e7c2",
   "metadata": {},
   "source": [
    "# 4. Modelling\n",
    "I'll use a significance level of **alpha = 0.05** to verify the significance of my models."
   ]
  },
  {
   "cell_type": "markdown",
   "id": "55fa0c49",
   "metadata": {},
   "source": [
    "## i) Model A\n",
    "To begin with, I will start with a simple linear regression model with one feature as the baseline model. To choose the feature I will use, I'll check the features' correlation with our target `SalePrice` column. \n",
    "\n",
    "Plotting a scatter plot between each feature and SalePrice:"
   ]
  },
  {
   "cell_type": "code",
   "execution_count": 45,
   "id": "bbc9f3a7",
   "metadata": {},
   "outputs": [
    {
     "data": {
      "image/png": "[encoded data removed]",
      "text/plain": [
       "<Figure size 1500x500 with 9 Axes>"
      ]
     },
     "metadata": {},
     "output_type": "display_data"
    }
   ],
   "source": [
    "y = data['SalePrice']\n",
    "X = data.drop('SalePrice', axis = 1)\n",
    "\n",
    "#plotting scatter plot\n",
    "fig, axes = plt.subplots(nrows = 3, ncols = 3, figsize = (15,5), sharey = True)\n",
    "\n",
    "#looping through every axis to plot each scatter plot\n",
    "for i,column in enumerate(X.columns):\n",
    "    row = i // 3\n",
    "    col = i % 3\n",
    "    ax = axes[row][col]\n",
    "    ax.scatter(X[column], y, alpha = 0.2)\n",
    "    ax.set_xlabel(column)\n",
    "    if col == 0:\n",
    "        ax.set_ylabel('SalePrice')\n",
    "fig.tight_layout()    "
   ]
  },
  {
   "cell_type": "markdown",
   "id": "ce5a45d1",
   "metadata": {},
   "source": [
    "From the plot above, column `sqft_living` appears to have a strong correlation with `SalePrice`. To confirm this I can also check the correlation of each column like below:"
   ]
  },
  {
   "cell_type": "code",
   "execution_count": 37,
   "id": "08cdabd1",
   "metadata": {},
   "outputs": [
    {
     "data": {
      "text/plain": [
       "SalePrice      1.000000\n",
       "bedrooms       0.316007\n",
       "bathrooms      0.510698\n",
       "sqft_living    0.701940\n",
       "sqft_lot       0.089868\n",
       "floors         0.237411\n",
       "waterfront     0.264310\n",
       "condition      0.036038\n",
       "grade          0.668078\n",
       "yr_built       0.054018\n",
       "Name: SalePrice, dtype: float64"
      ]
     },
     "execution_count": 37,
     "metadata": {},
     "output_type": "execute_result"
    }
   ],
   "source": [
    "data.corr()['SalePrice']"
   ]
  },
  {
   "cell_type": "markdown",
   "id": "90d53aa5",
   "metadata": {},
   "source": [
    "From the result above, the feature with the highest correlation besides `SalePrice` itself is `sqft_living`. I'll use this for my baseline model:"
   ]
  },
  {
   "cell_type": "code",
   "execution_count": 46,
   "id": "ebcc576a",
   "metadata": {},
   "outputs": [
    {
     "name": "stdout",
     "output_type": "stream",
     "text": [
      "                            OLS Regression Results                            \n",
      "==============================================================================\n",
      "Dep. Variable:              SalePrice   R-squared:                       0.493\n",
      "Model:                            OLS   Adj. R-squared:                  0.493\n",
      "Method:                 Least Squares   F-statistic:                 2.097e+04\n",
      "Date:                Thu, 06 Jul 2023   Prob (F-statistic):               0.00\n",
      "Time:                        13:49:47   Log-Likelihood:            -2.9995e+05\n",
      "No. Observations:               21589   AIC:                         5.999e+05\n",
      "Df Residuals:                   21587   BIC:                         5.999e+05\n",
      "Df Model:                           1                                         \n",
      "Covariance Type:            nonrobust                                         \n",
      "===============================================================================\n",
      "                  coef    std err          t      P>|t|      [0.025      0.975]\n",
      "-------------------------------------------------------------------------------\n",
      "const       -4.404e+04   4411.108     -9.984      0.000   -5.27e+04   -3.54e+04\n",
      "sqft_living   280.8815      1.940    144.801      0.000     277.079     284.684\n",
      "==============================================================================\n",
      "Omnibus:                    14794.997   Durbin-Watson:                   1.982\n",
      "Prob(Omnibus):                  0.000   Jarque-Bera (JB):           542159.026\n",
      "Skew:                           2.819   Prob(JB):                         0.00\n",
      "Kurtosis:                      26.894   Cond. No.                     5.63e+03\n",
      "==============================================================================\n",
      "\n",
      "Notes:\n",
      "[1] Standard Errors assume that the covariance matrix of the errors is correctly specified.\n",
      "[2] The condition number is large, 5.63e+03. This might indicate that there are\n",
      "strong multicollinearity or other numerical problems.\n"
     ]
    }
   ],
   "source": [
    "#creating a model with statsmodels\n",
    "X1 = data['sqft_living']\n",
    "modelA = sm.OLS(y, sm.add_constant(X1)).fit()\n",
    "modelA_results = modelA.summary()\n",
    "print(modelA_results)"
   ]
  },
  {
   "cell_type": "markdown",
   "id": "ba0e51fd",
   "metadata": {},
   "source": [
    "## Interpretation\n",
    "As one might expect, using a single feature did not provide a strong model.\n",
    "From the results above, our model has an R-squared of `0.493`. This means that about *49.3%* of the variation in the dependent variable y is explained by our model.\n",
    "\n",
    "The model is statistically significant since the probability of the F-statistic is less than the significance level of **0.05**.\n",
    "\n",
    "Also:\n",
    "The coefficent of `sqft_living` is 280, which means that for every additional square-foot of living area, the price increases by USD 280.\n",
    "\n",
    "For a house with 0 sqft_living which is not possible, the sale price is -4.404e+04. We can't have a negative sale price as well as a 0 square foot of living area."
   ]
  },
  {
   "cell_type": "markdown",
   "id": "d5cc45ac",
   "metadata": {},
   "source": [
    "Let's evaluate it by computing the **RMSE**"
   ]
  },
  {
   "cell_type": "code",
   "execution_count": 48,
   "id": "dcc79811",
   "metadata": {},
   "outputs": [
    {
     "data": {
      "text/plain": [
       "261689.59304257232"
      ]
     },
     "execution_count": 48,
     "metadata": {},
     "output_type": "execute_result"
    }
   ],
   "source": [
    "#calculating its root mean squared error\n",
    "rmse = ((modelA.resid**2).sum()/len(y))**0.5\n",
    "rmse"
   ]
  },
  {
   "cell_type": "markdown",
   "id": "3f2c3d02",
   "metadata": {},
   "source": [
    "We can interpret the **RMSE** as the mean error in USD, i.e. on average the actual price will be USD 261,689 more or less than our predicted price. This is actually not bad for just one feature.\n",
    "\n",
    "Our model is:\n",
    ">SalePrice = -4.404e+04 + 280.8815sqft_living"
   ]
  },
  {
   "cell_type": "code",
   "execution_count": 67,
   "id": "1c8200ef",
   "metadata": {},
   "outputs": [
    {
     "data": {
      "image/png": "[encoded data removed]",
      "text/plain": [
       "<Figure size 640x480 with 1 Axes>"
      ]
     },
     "metadata": {},
     "output_type": "display_data"
    }
   ],
   "source": [
    "#our prediction model\n",
    "y_pred= -4.404e+04 + 280.8815*data['sqft_living']\n",
    "\n",
    "#plotting a scatter plot with the regression line\n",
    "plt.scatter(X1,y, label = 'Data Points')\n",
    "plt.plot(X1, y_pred, color = 'red', label = 'Regression Line')\n",
    "plt.legend();"
   ]
  },
  {
   "cell_type": "markdown",
   "id": "5d689510",
   "metadata": {},
   "source": [
    "We see that for smaller living areas our model looks decent but as the `sqft_living` value increases our model's performance declines.\n",
    "This shows that sqft_living is not a good enough predictor for larger houses.\n",
    "\n",
    "I'll create a dataframe to store these model results:"
   ]
  },
  {
   "cell_type": "code",
   "execution_count": 73,
   "id": "7225db3b",
   "metadata": {},
   "outputs": [
    {
     "data": {
      "text/html": [
       "<div>\n",
       "<style scoped>\n",
       "    .dataframe tbody tr th:only-of-type {\n",
       "        vertical-align: middle;\n",
       "    }\n",
       "\n",
       "    .dataframe tbody tr th {\n",
       "        vertical-align: top;\n",
       "    }\n",
       "\n",
       "    .dataframe thead th {\n",
       "        text-align: right;\n",
       "    }\n",
       "</style>\n",
       "<table border=\"1\" class=\"dataframe\">\n",
       "  <thead>\n",
       "    <tr style=\"text-align: right;\">\n",
       "      <th></th>\n",
       "      <th>Model</th>\n",
       "      <th>Description</th>\n",
       "      <th>Num Features</th>\n",
       "      <th>R-squared</th>\n",
       "      <th>Adj R-squared</th>\n",
       "      <th>RMSE</th>\n",
       "    </tr>\n",
       "  </thead>\n",
       "  <tbody>\n",
       "    <tr>\n",
       "      <th>0</th>\n",
       "      <td>ModelA</td>\n",
       "      <td>Sqft_living</td>\n",
       "      <td>1.0</td>\n",
       "      <td>0.493</td>\n",
       "      <td>0.493</td>\n",
       "      <td>261689</td>\n",
       "    </tr>\n",
       "  </tbody>\n",
       "</table>\n",
       "</div>"
      ],
      "text/plain": [
       "    Model  Description   Num Features  R-squared  Adj R-squared    RMSE\n",
       "0  ModelA  Sqft_living            1.0      0.493          0.493  261689"
      ]
     },
     "execution_count": 73,
     "metadata": {},
     "output_type": "execute_result"
    }
   ],
   "source": [
    "#defining a dataframe to store model results\n",
    "result_table = pd.DataFrame({'Model': [], 'Description':[], ' Num Features' : [], 'R-squared':[],\n",
    "                                'Adj R-squared':[], 'RMSE': []})\n",
    "result_table.loc[0] = ['ModelA', 'Sqft_living', modelA.df_model, round(modelA.rsquared,3)\n",
    "                          ,round(modelA.rsquared_adj,3), int(rmse)]\n",
    "\n",
    "#previewing the table\n",
    "result_table"
   ]
  },
  {
   "cell_type": "code",
   "execution_count": null,
   "id": "66f718b1",
   "metadata": {},
   "outputs": [],
   "source": []
  },
  {
   "cell_type": "code",
   "execution_count": null,
   "id": "c902b736",
   "metadata": {},
   "outputs": [],
   "source": [
    "# # Define one-hot encoding function\n",
    "# def one_hot_encode(df, catcols):\n",
    "#     '''Returns df with dummy vars and drops original column'''\n",
    "    \n",
    "#     # Create DataFrame with above columns\n",
    "#     dfonehot = df[catcols].astype('category')\n",
    "    \n",
    "#     # Get dummy variables and drop first one to not create dependency\n",
    "#     dfonehot = pd.get_dummies(dfonehot, drop_first = True)\n",
    "    \n",
    "#     # Recreate DataFrame with one-hot encoded variables\n",
    "#     df = pd.concat([df,dfonehot], axis=1)\n",
    "    \n",
    "#     # Drop columns where we have done one-hot encoding\n",
    "#     df = df.drop(catcols, axis = 1)\n",
    "        \n",
    "#     return df"
   ]
  }
 ],
 "metadata": {
  "kernelspec": {
   "display_name": "Python 3 (ipykernel)",
   "language": "python",
   "name": "python3"
  },
  "language_info": {
   "codemirror_mode": {
    "name": "ipython",
    "version": 3
   },
   "file_extension": ".py",
   "mimetype": "text/x-python",
   "name": "python",
   "nbconvert_exporter": "python",
   "pygments_lexer": "ipython3",
   "version": "3.10.11"
  }
 },
 "nbformat": 4,
 "nbformat_minor": 5
}
